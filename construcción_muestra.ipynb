{
 "cells": [
  {
   "cell_type": "markdown",
   "metadata": {},
   "source": [
    "**Conocer Tamaño de Estrato**"
   ]
  },
  {
   "cell_type": "code",
   "execution_count": null,
   "metadata": {},
   "outputs": [],
   "source": [
    "import pandas as pd\n",
    "\n",
    "# Cargar el archivo Excel\n",
    "data = pd.read_excel(\"Encuesta Prueba.xlsx\")\n",
    "\n",
    "# Contar la cantidad de casos en el rango de edad deseado, este ejemplo es de 66 años a más\n",
    "valor_deseado = data[data[\"Edad\"] == \"66+\"].shape[0]\n",
    "\n",
    "print(f\"La cantidad de casos que se corresponden al valor deseado es: {valor_deseado}\")"
   ]
  },
  {
   "cell_type": "markdown",
   "metadata": {},
   "source": [
    "**Devolver Solo Valores del Estato Base**"
   ]
  },
  {
   "cell_type": "code",
   "execution_count": null,
   "metadata": {},
   "outputs": [],
   "source": [
    "# Cargar el archivo proporcionado y filtrar los datos según el criterio especificado\n",
    "df_encuesta = pd.read_excel(\"Encuesta Prueba.xlsx\")\n",
    "\n",
    "# Filtrar para obtener solo aquellos casos que por ejemplo se corresponden al valor \"66+\" en la columna \"Edad\"\n",
    "df_filtrado = df_encuesta[df_encuesta[\"Edad\"] == \"66+\"]\n",
    "\n",
    "# Guardar el resultado en un nuevo archivo Excel\n",
    "ruta_archivo_filtrado = \"Encuesta_Filtrada_66_Plus.xlsx\"\n",
    "df_filtrado.to_excel(ruta_archivo_filtrado, index=False)\n",
    "\n",
    "ruta_archivo_filtrado"
   ]
  },
  {
   "cell_type": "markdown",
   "metadata": {},
   "source": [
    "**Calcular Muestra**"
   ]
  },
  {
   "cell_type": "code",
   "execution_count": null,
   "metadata": {},
   "outputs": [],
   "source": [
    "# Importamos la librería math\n",
    "import math\n",
    "\n",
    "# Fórmula: (Tamaño del Estrato Menor / Porcentaje Respecto del total) * 100\n",
    "\n",
    "Tamaño_Muestral = math.floor((32/7)*100)\n",
    "\n",
    "print(f\"El tamaño muestral es:  {Tamaño_Muestral}\")"
   ]
  },
  {
   "cell_type": "markdown",
   "metadata": {},
   "source": [
    "**Calcular Margen de Error**"
   ]
  },
  {
   "cell_type": "code",
   "execution_count": null,
   "metadata": {},
   "outputs": [],
   "source": [
    "# Fórmula: Valor de Z * Raíz Cuadrada de ((Heterogeneidad de opinión estimada * (1 - Heterogeneidad de opinión estimada)) / Tamaño de la Muestra)\n",
    "\n",
    "import math\n",
    "\n",
    "# Definir los valores\n",
    "z = 1.96  # Z para un nivel de confianza del 95%\n",
    "p = 0.5   # Heterogeneidad de opinión estimada (por ejemplo, 50%)\n",
    "n = 457  # Tamaño de la muestra\n",
    "\n",
    "# Calcular el margen de error\n",
    "me = z * math.sqrt((p * (1 - p)) / n)\n",
    "\n",
    "# Redondear el margen de error a dos decimales\n",
    "me = round(me, 4)*100\n",
    "\n",
    "print(f\"El margen de error es: {me}%\")"
   ]
  },
  {
   "cell_type": "markdown",
   "metadata": {},
   "source": [
    "**Separar Estratos**"
   ]
  },
  {
   "cell_type": "code",
   "execution_count": null,
   "metadata": {},
   "outputs": [],
   "source": [
    "# Cargar el archivo proporcionado y filtrar los datos según el criterio especificado\n",
    "df_encuesta = pd.read_excel(\"Encuesta Prueba.xlsx\")\n",
    "\n",
    "# Filtrar para obtener solo aquellos casos que se corresponden al valor \"23-35\" en la columna \"Edad\"\n",
    "df_filtrado = df_encuesta[df_encuesta[\"Edad\"] == \"23-35\"]\n",
    "\n",
    "# Cantidad de casos a sortear, ajustable según lo que el usuario desee\n",
    "cantidad_casos = 7\n",
    "\n",
    "# Realizar el sorteo al azar de los casos especificados\n",
    "df_sorteo_azar = df_filtrado.sample(n=cantidad_casos, random_state=None)\n",
    "\n",
    "df_sorteo_azar.to_excel('estrato_sorteado2.xlsx', index=False)"
   ]
  },
  {
   "cell_type": "markdown",
   "metadata": {},
   "source": [
    "**Fusionar Muestra Final**"
   ]
  },
  {
   "cell_type": "code",
   "execution_count": null,
   "metadata": {},
   "outputs": [],
   "source": [
    "import pandas as pd\n",
    "\n",
    "df1 = pd.read_excel('archivo1.xlsx')\n",
    "df2 = pd.read_excel('archivo2.xlsx')\n",
    "df3 = pd.read_excel('archivo3.xlsx')\n",
    "\n",
    "df_unificado = pd.concat([df1, df2, df3], ignore_index=True)\n",
    "\n",
    "df_unificado.to_excel('archivo_unificado.xlsx', index=False)"
   ]
  }
 ],
 "metadata": {
  "kernelspec": {
   "display_name": "env",
   "language": "python",
   "name": "python3"
  },
  "language_info": {
   "codemirror_mode": {
    "name": "ipython",
    "version": 3
   },
   "file_extension": ".py",
   "mimetype": "text/x-python",
   "name": "python",
   "nbconvert_exporter": "python",
   "pygments_lexer": "ipython3",
   "version": "3.9.0"
  }
 },
 "nbformat": 4,
 "nbformat_minor": 2
}
